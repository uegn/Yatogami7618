{
  "nbformat": 4,
  "nbformat_minor": 0,
  "metadata": {
    "@webio": {
      "lastCommId": null,
      "lastKernelId": null
    },
    "kernelspec": {
      "display_name": "Python 3",
      "language": "python",
      "name": "python3"
    },
    "language_info": {
      "codemirror_mode": {
        "name": "ipython",
        "version": 3
      },
      "file_extension": ".py",
      "mimetype": "text/x-python",
      "name": "python",
      "nbconvert_exporter": "python",
      "pygments_lexer": "ipython3",
      "version": "3.7.4"
    },
    "colab": {
      "name": "Stock ML v1.ipynb",
      "provenance": [],
      "include_colab_link": true
    }
  },
  "cells": [
    {
      "cell_type": "markdown",
      "metadata": {
        "id": "view-in-github",
        "colab_type": "text"
      },
      "source": [
        "<a href=\"https://colab.research.google.com/github/uegn/Yatogami7618/blob/master/Stock_ML_v1.ipynb\" target=\"_parent\"><img src=\"https://colab.research.google.com/assets/colab-badge.svg\" alt=\"Open In Colab\"/></a>"
      ]
    },
    {
      "cell_type": "markdown",
      "metadata": {
        "id": "om8FEOrMFAbk",
        "colab_type": "text"
      },
      "source": [
        "# Stock prediction"
      ]
    },
    {
      "cell_type": "code",
      "metadata": {
        "id": "9DnOa-0CFAbl",
        "colab_type": "code",
        "outputId": "025f10e5-4e4f-4a5e-a1cc-c27942fa4ae8",
        "colab": {
          "base_uri": "https://localhost:8080/",
          "height": 243
        }
      },
      "source": [
        "import pandas as pd\n",
        "from alpha_vantage.timeseries import TimeSeries\n",
        "import time\n",
        "\n",
        "api_key = 'FPL0E19OFS2C0BI4'\n",
        "\n",
        "symbol = 'M'\n",
        "interval = '1min'\n",
        "outputsize = 'full'\n",
        "\n",
        "ts = TimeSeries(key=api_key, output_format='pandas')\n",
        "\n",
        "data, meta_data = ts.get_intraday(symbol=symbol,interval=interval,outputsize=outputsize)\n",
        "\n",
        "print(data)\n",
        "\n",
        "i = 1\n",
        "while i==1:\n",
        "    data, meta_data = ts.get_intraday(symbol=symbol,interval=interval,outputsize=outputsize)\n",
        "    data.to_excel(\"output.xlsx\",\n",
        "             sheet_name='Sheet_name_1')\n",
        "    time.sleep(10)\n",
        "\n",
        "# close_data = data['4. close']\n",
        "# percentage_change = close_data.pct_change()\n",
        "# print(percentage_change)\n",
        "# last_change = percentage_change[-1]\n",
        "# if abs(last_change) > 0.0004:\n",
        "#     print(\"MSFT Alert:\" + str(last_change))"
      ],
      "execution_count": 0,
      "outputs": [
        {
          "output_type": "stream",
          "text": [
            "                     1. open  2. high  3. low  4. close  5. volume\n",
            "date                                                              \n",
            "2020-04-24 16:00:00   5.0300   5.0300  5.0000    5.0300   327918.0\n",
            "2020-04-24 15:59:00   5.0250   5.0300  5.0200    5.0200   249225.0\n",
            "2020-04-24 15:58:00   5.0250   5.0300  5.0200    5.0300   145371.0\n",
            "2020-04-24 15:57:00   5.0450   5.0500  5.0200    5.0250   204986.0\n",
            "2020-04-24 15:56:00   5.0450   5.0500  5.0400    5.0450   161958.0\n",
            "...                      ...      ...     ...       ...        ...\n",
            "2020-04-20 09:35:00   5.5750   5.5900  5.5557    5.5600   154545.0\n",
            "2020-04-20 09:34:00   5.6450   5.6724  5.5700    5.5750   259451.0\n",
            "2020-04-20 09:33:00   5.7575   5.7700  5.6400    5.6434   178740.0\n",
            "2020-04-20 09:32:00   5.7325   5.7750  5.7200    5.7450   206289.0\n",
            "2020-04-20 09:31:00   5.7100   5.7500  5.6800    5.7300  1039344.0\n",
            "\n",
            "[1948 rows x 5 columns]\n"
          ],
          "name": "stdout"
        }
      ]
    },
    {
      "cell_type": "code",
      "metadata": {
        "id": "W8bQjO6sTYHh",
        "colab_type": "code",
        "outputId": "55ae31af-2d53-4db9-e077-356923c97f4c",
        "colab": {
          "base_uri": "https://localhost:8080/",
          "height": 561
        }
      },
      "source": [
        "\n"
      ],
      "execution_count": 0,
      "outputs": [
        {
          "output_type": "stream",
          "text": [
            "Collecting alpha_vantage\n",
            "  Downloading https://files.pythonhosted.org/packages/12/e3/72ec32d859a363c2eebaa42e0d4abb5ac7172a7a77a2307576ceb5fc1b42/alpha_vantage-2.2.0.tar.gz\n",
            "Collecting aiohttp\n",
            "\u001b[?25l  Downloading https://files.pythonhosted.org/packages/7c/39/7eb5f98d24904e0f6d3edb505d4aa60e3ef83c0a58d6fe18244a51757247/aiohttp-3.6.2-cp36-cp36m-manylinux1_x86_64.whl (1.2MB)\n",
            "\u001b[K     |████████████████████████████████| 1.2MB 3.9MB/s \n",
            "\u001b[?25hRequirement already satisfied: requests in /usr/local/lib/python3.6/dist-packages (from alpha_vantage) (2.21.0)\n",
            "Collecting idna-ssl>=1.0; python_version < \"3.7\"\n",
            "  Downloading https://files.pythonhosted.org/packages/46/03/07c4894aae38b0de52b52586b24bf189bb83e4ddabfe2e2c8f2419eec6f4/idna-ssl-1.1.0.tar.gz\n",
            "Requirement already satisfied: attrs>=17.3.0 in /usr/local/lib/python3.6/dist-packages (from aiohttp->alpha_vantage) (19.3.0)\n",
            "Requirement already satisfied: typing-extensions>=3.6.5; python_version < \"3.7\" in /usr/local/lib/python3.6/dist-packages (from aiohttp->alpha_vantage) (3.6.6)\n",
            "Collecting async-timeout<4.0,>=3.0\n",
            "  Downloading https://files.pythonhosted.org/packages/e1/1e/5a4441be21b0726c4464f3f23c8b19628372f606755a9d2e46c187e65ec4/async_timeout-3.0.1-py3-none-any.whl\n",
            "Collecting multidict<5.0,>=4.5\n",
            "\u001b[?25l  Downloading https://files.pythonhosted.org/packages/30/2e/3ab2f1fb72571f75013db323a3799d505d99f3bc203513604f1ffb9b7858/multidict-4.7.5-cp36-cp36m-manylinux1_x86_64.whl (148kB)\n",
            "\u001b[K     |████████████████████████████████| 153kB 16.2MB/s \n",
            "\u001b[?25hCollecting yarl<2.0,>=1.0\n",
            "\u001b[?25l  Downloading https://files.pythonhosted.org/packages/95/8f/0209fc5d975f839344c33c822ff2f7ef80f6b1e984673a5a68f960bfa583/yarl-1.4.2-cp36-cp36m-manylinux1_x86_64.whl (252kB)\n",
            "\u001b[K     |████████████████████████████████| 256kB 15.2MB/s \n",
            "\u001b[?25hRequirement already satisfied: chardet<4.0,>=2.0 in /usr/local/lib/python3.6/dist-packages (from aiohttp->alpha_vantage) (3.0.4)\n",
            "Requirement already satisfied: certifi>=2017.4.17 in /usr/local/lib/python3.6/dist-packages (from requests->alpha_vantage) (2020.4.5.1)\n",
            "Requirement already satisfied: urllib3<1.25,>=1.21.1 in /usr/local/lib/python3.6/dist-packages (from requests->alpha_vantage) (1.24.3)\n",
            "Requirement already satisfied: idna<2.9,>=2.5 in /usr/local/lib/python3.6/dist-packages (from requests->alpha_vantage) (2.8)\n",
            "Building wheels for collected packages: alpha-vantage, idna-ssl\n",
            "  Building wheel for alpha-vantage (setup.py) ... \u001b[?25l\u001b[?25hdone\n",
            "  Created wheel for alpha-vantage: filename=alpha_vantage-2.2.0-cp36-none-any.whl size=25705 sha256=679f56d956f400797f978f0f18e02682075f33093d0a9883f513e969a3284d8b\n",
            "  Stored in directory: /root/.cache/pip/wheels/3a/fa/05/80b0afcbd2a4de8bd2a0c5cd77084e3d3a9cc12c48be9b7f84\n",
            "  Building wheel for idna-ssl (setup.py) ... \u001b[?25l\u001b[?25hdone\n",
            "  Created wheel for idna-ssl: filename=idna_ssl-1.1.0-cp36-none-any.whl size=3162 sha256=7bdb91056ffd704e10d7516efce0427f243d5ae0ee4d06d279b7439838947576\n",
            "  Stored in directory: /root/.cache/pip/wheels/d3/00/b3/32d613e19e08a739751dd6bf998cfed277728f8b2127ad4eb7\n",
            "Successfully built alpha-vantage idna-ssl\n",
            "Installing collected packages: idna-ssl, async-timeout, multidict, yarl, aiohttp, alpha-vantage\n",
            "Successfully installed aiohttp-3.6.2 alpha-vantage-2.2.0 async-timeout-3.0.1 idna-ssl-1.1.0 multidict-4.7.5 yarl-1.4.2\n"
          ],
          "name": "stdout"
        }
      ]
    },
    {
      "cell_type": "markdown",
      "metadata": {
        "id": "tunTrGj3toA3",
        "colab_type": "text"
      },
      "source": [
        "# New Section"
      ]
    },
    {
      "cell_type": "code",
      "metadata": {
        "id": "x7KyVczzFAbq",
        "colab_type": "code",
        "outputId": "2204042a-affa-4a5a-d70f-f38e789d546b",
        "colab": {
          "base_uri": "https://localhost:8080/",
          "height": 272
        }
      },
      "source": [
        "print(data)"
      ],
      "execution_count": 0,
      "outputs": [
        {
          "output_type": "stream",
          "text": [
            "                     1. open  2. high  3. low  4. close  5. volume\n",
            "date                                                              \n",
            "2020-04-24 16:00:00   5.0300   5.0300  5.0000    5.0300   327918.0\n",
            "2020-04-24 15:59:00   5.0250   5.0300  5.0200    5.0200   249225.0\n",
            "2020-04-24 15:58:00   5.0250   5.0300  5.0200    5.0300   145371.0\n",
            "2020-04-24 15:57:00   5.0450   5.0500  5.0200    5.0250   204986.0\n",
            "2020-04-24 15:56:00   5.0450   5.0500  5.0400    5.0450   161958.0\n",
            "...                      ...      ...     ...       ...        ...\n",
            "2020-04-20 09:35:00   5.5750   5.5900  5.5557    5.5600   154545.0\n",
            "2020-04-20 09:34:00   5.6450   5.6724  5.5700    5.5750   259451.0\n",
            "2020-04-20 09:33:00   5.7575   5.7700  5.6400    5.6434   178740.0\n",
            "2020-04-20 09:32:00   5.7325   5.7750  5.7200    5.7450   206289.0\n",
            "2020-04-20 09:31:00   5.7100   5.7500  5.6800    5.7300  1039344.0\n",
            "\n",
            "[1948 rows x 5 columns]\n"
          ],
          "name": "stdout"
        }
      ]
    },
    {
      "cell_type": "code",
      "metadata": {
        "id": "FcY14sMKFAbt",
        "colab_type": "code",
        "outputId": "16c190d2-2e61-4ce1-d6f4-2fe7ab6a0195",
        "colab": {}
      },
      "source": [
        "import numpy as np\n",
        "import pandas as pd\n",
        "data = pd.read_csv(r'C:\\Users\\phatm\\Desktop\\Project Ngoc Dung\\M.csv')\n",
        "data.head()"
      ],
      "execution_count": 0,
      "outputs": [
        {
          "output_type": "execute_result",
          "data": {
            "text/html": [
              "<div>\n",
              "<style scoped>\n",
              "    .dataframe tbody tr th:only-of-type {\n",
              "        vertical-align: middle;\n",
              "    }\n",
              "\n",
              "    .dataframe tbody tr th {\n",
              "        vertical-align: top;\n",
              "    }\n",
              "\n",
              "    .dataframe thead th {\n",
              "        text-align: right;\n",
              "    }\n",
              "</style>\n",
              "<table border=\"1\" class=\"dataframe\">\n",
              "  <thead>\n",
              "    <tr style=\"text-align: right;\">\n",
              "      <th></th>\n",
              "      <th>Date</th>\n",
              "      <th>Open</th>\n",
              "      <th>High</th>\n",
              "      <th>Low</th>\n",
              "      <th>Close</th>\n",
              "      <th>Adj Close</th>\n",
              "      <th>Volume</th>\n",
              "    </tr>\n",
              "  </thead>\n",
              "  <tbody>\n",
              "    <tr>\n",
              "      <th>0</th>\n",
              "      <td>2019-04-24</td>\n",
              "      <td>24.549999</td>\n",
              "      <td>25.760000</td>\n",
              "      <td>24.200001</td>\n",
              "      <td>25.049999</td>\n",
              "      <td>22.572159</td>\n",
              "      <td>12080700</td>\n",
              "    </tr>\n",
              "    <tr>\n",
              "      <th>1</th>\n",
              "      <td>2019-04-25</td>\n",
              "      <td>24.980000</td>\n",
              "      <td>25.000000</td>\n",
              "      <td>24.070000</td>\n",
              "      <td>24.129999</td>\n",
              "      <td>21.743162</td>\n",
              "      <td>9189600</td>\n",
              "    </tr>\n",
              "    <tr>\n",
              "      <th>2</th>\n",
              "      <td>2019-04-26</td>\n",
              "      <td>23.850000</td>\n",
              "      <td>24.299999</td>\n",
              "      <td>23.580000</td>\n",
              "      <td>24.260000</td>\n",
              "      <td>21.860306</td>\n",
              "      <td>6151300</td>\n",
              "    </tr>\n",
              "    <tr>\n",
              "      <th>3</th>\n",
              "      <td>2019-04-29</td>\n",
              "      <td>24.389999</td>\n",
              "      <td>24.500000</td>\n",
              "      <td>24.000000</td>\n",
              "      <td>24.090000</td>\n",
              "      <td>21.707117</td>\n",
              "      <td>4691200</td>\n",
              "    </tr>\n",
              "    <tr>\n",
              "      <th>4</th>\n",
              "      <td>2019-04-30</td>\n",
              "      <td>24.100000</td>\n",
              "      <td>24.150000</td>\n",
              "      <td>23.540001</td>\n",
              "      <td>23.540001</td>\n",
              "      <td>21.211525</td>\n",
              "      <td>8351400</td>\n",
              "    </tr>\n",
              "  </tbody>\n",
              "</table>\n",
              "</div>"
            ],
            "text/plain": [
              "         Date       Open       High        Low      Close  Adj Close    Volume\n",
              "0  2019-04-24  24.549999  25.760000  24.200001  25.049999  22.572159  12080700\n",
              "1  2019-04-25  24.980000  25.000000  24.070000  24.129999  21.743162   9189600\n",
              "2  2019-04-26  23.850000  24.299999  23.580000  24.260000  21.860306   6151300\n",
              "3  2019-04-29  24.389999  24.500000  24.000000  24.090000  21.707117   4691200\n",
              "4  2019-04-30  24.100000  24.150000  23.540001  23.540001  21.211525   8351400"
            ]
          },
          "metadata": {
            "tags": []
          },
          "execution_count": 25
        }
      ]
    },
    {
      "cell_type": "code",
      "metadata": {
        "scrolled": true,
        "id": "6H7eweuqFAbv",
        "colab_type": "code",
        "colab": {}
      },
      "source": [
        "data_1 = data.drop(['Date'], axis=1)\n",
        "data_1 = data_1.to_numpy().ravel() \n",
        "\n",
        "n_date = 15\n",
        "n_cols = 6*n_date\n",
        "for i in range(0,10):\n",
        "    data_2 = data_1[:n_cols]\n",
        "    "
      ],
      "execution_count": 0,
      "outputs": []
    },
    {
      "cell_type": "code",
      "metadata": {
        "id": "RyIXxn5AFAby",
        "colab_type": "code",
        "outputId": "270d9d4f-149f-4b80-af72-75c82124f0e9",
        "colab": {}
      },
      "source": [
        "print(len(data_1))"
      ],
      "execution_count": 0,
      "outputs": [
        {
          "output_type": "stream",
          "text": [
            "1524\n"
          ],
          "name": "stdout"
        }
      ]
    },
    {
      "cell_type": "code",
      "metadata": {
        "id": "NGTEUA7sFAb1",
        "colab_type": "code",
        "outputId": "7b5897c6-7ce7-4f51-d426-86f6dc9a0778",
        "colab": {}
      },
      "source": [
        "import numpy as np\n",
        "A = np.array([1,2,3,4,5,6])\n",
        "B = np.reshape(A, (4, 3))\n",
        "print(B)"
      ],
      "execution_count": 0,
      "outputs": [
        {
          "output_type": "error",
          "ename": "ValueError",
          "evalue": "cannot reshape array of size 6 into shape (4,3)",
          "traceback": [
            "\u001b[1;31m---------------------------------------------------------------------------\u001b[0m",
            "\u001b[1;31mValueError\u001b[0m                                Traceback (most recent call last)",
            "\u001b[1;32m<ipython-input-49-50fb08b0ed1e>\u001b[0m in \u001b[0;36m<module>\u001b[1;34m\u001b[0m\n\u001b[0;32m      1\u001b[0m \u001b[1;32mimport\u001b[0m \u001b[0mnumpy\u001b[0m \u001b[1;32mas\u001b[0m \u001b[0mnp\u001b[0m\u001b[1;33m\u001b[0m\u001b[1;33m\u001b[0m\u001b[0m\n\u001b[0;32m      2\u001b[0m \u001b[0mA\u001b[0m \u001b[1;33m=\u001b[0m \u001b[0mnp\u001b[0m\u001b[1;33m.\u001b[0m\u001b[0marray\u001b[0m\u001b[1;33m(\u001b[0m\u001b[1;33m[\u001b[0m\u001b[1;36m1\u001b[0m\u001b[1;33m,\u001b[0m\u001b[1;36m2\u001b[0m\u001b[1;33m,\u001b[0m\u001b[1;36m3\u001b[0m\u001b[1;33m,\u001b[0m\u001b[1;36m4\u001b[0m\u001b[1;33m,\u001b[0m\u001b[1;36m5\u001b[0m\u001b[1;33m,\u001b[0m\u001b[1;36m6\u001b[0m\u001b[1;33m]\u001b[0m\u001b[1;33m)\u001b[0m\u001b[1;33m\u001b[0m\u001b[1;33m\u001b[0m\u001b[0m\n\u001b[1;32m----> 3\u001b[1;33m \u001b[0mB\u001b[0m \u001b[1;33m=\u001b[0m \u001b[0mnp\u001b[0m\u001b[1;33m.\u001b[0m\u001b[0mreshape\u001b[0m\u001b[1;33m(\u001b[0m\u001b[0mA\u001b[0m\u001b[1;33m,\u001b[0m \u001b[1;33m(\u001b[0m\u001b[1;36m4\u001b[0m\u001b[1;33m,\u001b[0m \u001b[1;36m3\u001b[0m\u001b[1;33m)\u001b[0m\u001b[1;33m)\u001b[0m\u001b[1;33m\u001b[0m\u001b[1;33m\u001b[0m\u001b[0m\n\u001b[0m\u001b[0;32m      4\u001b[0m \u001b[0mprint\u001b[0m\u001b[1;33m(\u001b[0m\u001b[0mB\u001b[0m\u001b[1;33m)\u001b[0m\u001b[1;33m\u001b[0m\u001b[1;33m\u001b[0m\u001b[0m\n",
            "\u001b[1;32m<__array_function__ internals>\u001b[0m in \u001b[0;36mreshape\u001b[1;34m(*args, **kwargs)\u001b[0m\n",
            "\u001b[1;32m~\\Anaconda3\\lib\\site-packages\\numpy\\core\\fromnumeric.py\u001b[0m in \u001b[0;36mreshape\u001b[1;34m(a, newshape, order)\u001b[0m\n\u001b[0;32m    299\u001b[0m            [5, 6]])\n\u001b[0;32m    300\u001b[0m     \"\"\"\n\u001b[1;32m--> 301\u001b[1;33m     \u001b[1;32mreturn\u001b[0m \u001b[0m_wrapfunc\u001b[0m\u001b[1;33m(\u001b[0m\u001b[0ma\u001b[0m\u001b[1;33m,\u001b[0m \u001b[1;34m'reshape'\u001b[0m\u001b[1;33m,\u001b[0m \u001b[0mnewshape\u001b[0m\u001b[1;33m,\u001b[0m \u001b[0morder\u001b[0m\u001b[1;33m=\u001b[0m\u001b[0morder\u001b[0m\u001b[1;33m)\u001b[0m\u001b[1;33m\u001b[0m\u001b[1;33m\u001b[0m\u001b[0m\n\u001b[0m\u001b[0;32m    302\u001b[0m \u001b[1;33m\u001b[0m\u001b[0m\n\u001b[0;32m    303\u001b[0m \u001b[1;33m\u001b[0m\u001b[0m\n",
            "\u001b[1;32m~\\Anaconda3\\lib\\site-packages\\numpy\\core\\fromnumeric.py\u001b[0m in \u001b[0;36m_wrapfunc\u001b[1;34m(obj, method, *args, **kwds)\u001b[0m\n\u001b[0;32m     59\u001b[0m \u001b[1;33m\u001b[0m\u001b[0m\n\u001b[0;32m     60\u001b[0m     \u001b[1;32mtry\u001b[0m\u001b[1;33m:\u001b[0m\u001b[1;33m\u001b[0m\u001b[1;33m\u001b[0m\u001b[0m\n\u001b[1;32m---> 61\u001b[1;33m         \u001b[1;32mreturn\u001b[0m \u001b[0mbound\u001b[0m\u001b[1;33m(\u001b[0m\u001b[1;33m*\u001b[0m\u001b[0margs\u001b[0m\u001b[1;33m,\u001b[0m \u001b[1;33m**\u001b[0m\u001b[0mkwds\u001b[0m\u001b[1;33m)\u001b[0m\u001b[1;33m\u001b[0m\u001b[1;33m\u001b[0m\u001b[0m\n\u001b[0m\u001b[0;32m     62\u001b[0m     \u001b[1;32mexcept\u001b[0m \u001b[0mTypeError\u001b[0m\u001b[1;33m:\u001b[0m\u001b[1;33m\u001b[0m\u001b[1;33m\u001b[0m\u001b[0m\n\u001b[0;32m     63\u001b[0m         \u001b[1;31m# A TypeError occurs if the object does have such a method in its\u001b[0m\u001b[1;33m\u001b[0m\u001b[1;33m\u001b[0m\u001b[1;33m\u001b[0m\u001b[0m\n",
            "\u001b[1;31mValueError\u001b[0m: cannot reshape array of size 6 into shape (4,3)"
          ]
        }
      ]
    },
    {
      "cell_type": "markdown",
      "metadata": {
        "id": "wYBmQCI4FAb3",
        "colab_type": "text"
      },
      "source": [
        "## Predition model by using Support Vector Machines (SVM)"
      ]
    },
    {
      "cell_type": "markdown",
      "metadata": {
        "id": "j1Dth_ulFAb4",
        "colab_type": "text"
      },
      "source": [
        "### Classifier's learning\n",
        "##### Initial classifier: SVC class, polynomial degree 3 kernel and gamma = 0.001"
      ]
    },
    {
      "cell_type": "code",
      "metadata": {
        "id": "asEW4pBSFAb4",
        "colab_type": "code",
        "colab": {}
      },
      "source": [
        "label = data.take([-1], axis=1)\n",
        "data = data.drop(['Predicted'], axis=1)\n",
        "data = data.to_numpy()\n",
        "label = label.to_numpy()\n",
        "data = data[:-1]\n",
        "label = label[:-1]\n",
        "\n",
        "slipt_point = 45/50\n",
        "\n",
        "n_samples = len(label)\n",
        "slipt = int(n_samples*slipt_point)\n",
        "di = data[:slipt]\n",
        "dt = label[:slipt]\n",
        "ti = data[slipt:]\n",
        "tt = label[slipt:]\n",
        "\n",
        "dt = dt.ravel().astype('int')\n",
        "tt = tt.ravel().astype('int')\n",
        "\n",
        "from sklearn import svm\n",
        "import timeit\n",
        "\n",
        "start = timeit.default_timer()\n",
        "print('\\n'+'\\033[1m')\n",
        "\n",
        "clf = svm.SVC(kernel='poly', degree = 2,gamma = 0.001)\n",
        "print('0')\n",
        "\n",
        "\n",
        "clf.fit(di,dt)\n",
        "print('1')\n",
        "\n",
        "predicted = clf.predict(ti)\n",
        "print('2 \\nDone!')\n",
        "print('\\033[0m')\n",
        "\n",
        "stop = timeit.default_timer()\n",
        "print('Run time: ', stop - start)  "
      ],
      "execution_count": 0,
      "outputs": []
    },
    {
      "cell_type": "code",
      "metadata": {
        "id": "37xZzUcuFAb7",
        "colab_type": "code",
        "outputId": "68dc865f-1395-429e-9407-572566426380",
        "colab": {}
      },
      "source": [
        "print(dt)"
      ],
      "execution_count": 0,
      "outputs": [
        {
          "output_type": "stream",
          "text": [
            "[26 26 27 23 24 23 23 23 23 23 23 23 28 27 25 25 27 26 25 23 23 23 21 20\n",
            " 20 20 22 20 20 20 21 21 21 21 22 22 22 22 21 20 20 20 19 19 19 19 19 19\n",
            " 19 20 20 19 19 20 19 19 18 18 18 18 18 18 17 16 16 19 21 20 22 21 19 19\n",
            " 19 19 19 18 18 17 18 18 18 19 19 19 19 20 18 18 17 17 17 18 18 22 23 24\n",
            " 23 21 20 20 19 19 21 23 22 23 23 23 21 21 20 20 21 20 22 23 23 24 25 23\n",
            " 25 25 26 25 24 25 25 25 25 31 34 32 31 32 33 33 32 32 31 29 28 28 28 27\n",
            " 26 25 25 27 27 27 26 27 25 25 26 26 26 28 30 30 29 29 28 28 28 29 29 29\n",
            " 30 30 30 29 30 30 30 32 31 32 31 31 38 39 39 40 38 38 38 38 38 39 39 39\n",
            " 39 37 38 38 37 35 34 34 33 33 33 35 35 35 36 35 33 25 22 21 22 23 22 22\n",
            " 22 21 20 19 16 15 14]\n"
          ],
          "name": "stdout"
        }
      ]
    },
    {
      "cell_type": "code",
      "metadata": {
        "id": "jyLienzUFAb-",
        "colab_type": "code",
        "outputId": "c7e2ba0e-4e64-4165-a57e-628c86949611",
        "colab": {}
      },
      "source": [
        ""
      ],
      "execution_count": 0,
      "outputs": [
        {
          "output_type": "stream",
          "text": [
            "\n",
            "\u001b[1m\n",
            "0\n"
          ],
          "name": "stdout"
        }
      ]
    },
    {
      "cell_type": "markdown",
      "metadata": {
        "id": "b8n02oOeFAcA",
        "colab_type": "text"
      },
      "source": [
        "### Classifier's prediction "
      ]
    },
    {
      "cell_type": "code",
      "metadata": {
        "id": "0GfhRY7NFAcA",
        "colab_type": "code",
        "outputId": "72f0cad5-b11e-48c2-d424-65faa337d704",
        "colab": {}
      },
      "source": [
        "c, d = predicted, tt\n",
        "import re\n",
        "print(re.sub(r' *\\n *', '\\n', np.array_str(np.c_[d, c]).replace('[', '').replace(']', '').strip()))"
      ],
      "execution_count": 0,
      "outputs": [
        {
          "output_type": "stream",
          "text": [
            "130 192\n",
            "120 192\n",
            "100 140\n",
            "107 192\n",
            "96 192\n",
            "106 192\n",
            "126 192\n",
            "119 140\n",
            "128 192\n",
            "120 192\n",
            "107 192\n",
            "105 192\n",
            "98 192\n",
            "75 192\n",
            "76 140\n",
            "90 140\n",
            "88 192\n",
            "99 192\n",
            "100 192\n",
            "99 192\n",
            "106 192\n",
            "99 192\n",
            "98 192\n",
            "97 192\n",
            "0 140\n"
          ],
          "name": "stdout"
        }
      ]
    },
    {
      "cell_type": "markdown",
      "metadata": {
        "id": "LbfhCVRcFAcD",
        "colab_type": "text"
      },
      "source": [
        "### Classifier's report, confusion matrix and cross-validation's score"
      ]
    },
    {
      "cell_type": "code",
      "metadata": {
        "scrolled": false,
        "id": "mxMuOTIQFAcE",
        "colab_type": "code",
        "outputId": "3a35edc3-dfaa-402b-9344-2309e6ee7576",
        "colab": {}
      },
      "source": [
        "from sklearn import metrics\n",
        "from sklearn.model_selection import cross_val_score\n",
        "\n",
        "print(\"\\n\\nEvaluate a score by cross-validation:     mean score = %s \\n\" % cross_val_score(clf, ti, tt, cv=3).mean())"
      ],
      "execution_count": 0,
      "outputs": [
        {
          "output_type": "stream",
          "text": [
            "C:\\Users\\phatm\\Anaconda3\\lib\\site-packages\\sklearn\\model_selection\\_split.py:667: UserWarning: The least populated class in y has only 1 members, which is less than n_splits=3.\n",
            "  % (min_groups, self.n_splits)), UserWarning)\n"
          ],
          "name": "stderr"
        },
        {
          "output_type": "stream",
          "text": [
            "\n",
            "\n",
            "Evaluate a score by cross-validation:     mean score = 0.041666666666666664 \n",
            "\n"
          ],
          "name": "stdout"
        }
      ]
    },
    {
      "cell_type": "markdown",
      "metadata": {
        "id": "SedN1Uo1FAcH",
        "colab_type": "text"
      },
      "source": [
        "### Parameters ranking with GridSearchCV"
      ]
    },
    {
      "cell_type": "code",
      "metadata": {
        "scrolled": true,
        "id": "xOe0HV3hFAcH",
        "colab_type": "code",
        "colab": {}
      },
      "source": [
        "print('\\033[1m'+ \"GridSearchCV's report:\"+'\\033[0m')\n",
        "clf_G.cv_results_"
      ],
      "execution_count": 0,
      "outputs": []
    },
    {
      "cell_type": "code",
      "metadata": {
        "id": "GhpuAIzPFAcJ",
        "colab_type": "code",
        "colab": {}
      },
      "source": [
        "print('\\033[1m'+ \"Rank 1 parameter\"+'\\033[0m')\n",
        "for i in range(len(clf_G.cv_results_['rank_test_score'])):\n",
        "    if clf_G.cv_results_['rank_test_score'][i] == 1:\n",
        "        print('\\n',clf_G.cv_results_['params'][i])"
      ],
      "execution_count": 0,
      "outputs": []
    },
    {
      "cell_type": "markdown",
      "metadata": {
        "id": "OXV8tMKcFAcL",
        "colab_type": "text"
      },
      "source": [
        "## Other machine learning method and comparision"
      ]
    },
    {
      "cell_type": "markdown",
      "metadata": {
        "id": "J4ztfE0kFAcM",
        "colab_type": "text"
      },
      "source": [
        "### Ensemble methods"
      ]
    },
    {
      "cell_type": "code",
      "metadata": {
        "id": "F-GHx4afS9NF",
        "colab_type": "code",
        "colab": {}
      },
      "source": [
        "#@title Example form fields\n",
        "#@markdown Forms support many types of fields.\n",
        "\n",
        "no_type_checking = ''  #@param\n",
        "string_type = 'example'  #@param {type: \"string\"}\n",
        "slider_value = 142  #@param {type: \"slider\", min: 100, max: 200}\n",
        "number = 102  #@param {type: \"number\"}\n",
        "date = '2010-11-05'  #@param {type: \"date\"}\n",
        "pick_me = \"monday\"  #@param ['monday', 'tuesday', 'wednesday', 'thursday']\n",
        "select_or_input = \"apples\" #@param [\"apples\", \"bananas\", \"oranges\"] {allow-input: true}\n",
        "#@markdown ---\n"
      ],
      "execution_count": 0,
      "outputs": []
    },
    {
      "cell_type": "code",
      "metadata": {
        "id": "myWE-69DS95D",
        "colab_type": "code",
        "colab": {}
      },
      "source": [
        "# Import PyDrive and associated libraries.\n",
        "# This only needs to be done once per notebook.\n",
        "from pydrive.auth import GoogleAuth\n",
        "from pydrive.drive import GoogleDrive\n",
        "from google.colab import auth\n",
        "from oauth2client.client import GoogleCredentials\n",
        "\n",
        "# Authenticate and create the PyDrive client.\n",
        "# This only needs to be done once per notebook.\n",
        "auth.authenticate_user()\n",
        "gauth = GoogleAuth()\n",
        "gauth.credentials = GoogleCredentials.get_application_default()\n",
        "drive = GoogleDrive(gauth)\n",
        "\n",
        "# Download a file based on its file ID.\n",
        "#\n",
        "# A file ID looks like: laggVyWshwcyP6kEI-y_W3P8D26sz\n",
        "file_id = 'REPLACE_WITH_YOUR_FILE_ID'\n",
        "downloaded = drive.CreateFile({'id': file_id})\n",
        "print('Downloaded content \"{}\"'.format(downloaded.GetContentString()))"
      ],
      "execution_count": 0,
      "outputs": []
    },
    {
      "cell_type": "code",
      "metadata": {
        "id": "4EuopWSdFAcM",
        "colab_type": "code",
        "colab": {}
      },
      "source": [
        "from sklearn.ensemble import RandomForestClassifier\n",
        "from sklearn.ensemble import ExtraTreesClassifier\n",
        "from sklearn.tree import DecisionTreeClassifier\n",
        "from sklearn.ensemble import AdaBoostClassifier\n",
        "from sklearn.naive_bayes import GaussianNB\n",
        "from sklearn.ensemble import GradientBoostingClassifier\n",
        "from sklearn.ensemble import VotingClassifier"
      ],
      "execution_count": 0,
      "outputs": []
    },
    {
      "cell_type": "code",
      "metadata": {
        "scrolled": false,
        "id": "h7E5E-j-FAcO",
        "colab_type": "code",
        "outputId": "fb741b94-a8e4-405c-df2b-ef87cf3bfd2d",
        "colab": {}
      },
      "source": [
        "x = svm.SVC(kernel='poly', degree = 3,gamma = 0.001)\n",
        "a = RandomForestClassifier(n_estimators = 100, min_samples_split=2)\n",
        "b = ExtraTreesClassifier(n_estimators = 100, min_samples_split=2)\n",
        "c = DecisionTreeClassifier(min_samples_split=2)\n",
        "d = AdaBoostClassifier(n_estimators=100)\n",
        "e = GaussianNB()\n",
        "f = GradientBoostingClassifier(n_estimators=100, learning_rate=1.0, max_depth=1, random_state=0)\n",
        "g = VotingClassifier(estimators=[('svc',x),('rfc',a),('etc',b),('dtc',c),('gnb',e)], voting='hard')\n",
        "\n",
        "cv = 3\n",
        "\n",
        "clf_name = ['SVC','RandomForestClassifier','ExtraTreesClassifier','DecisionTreeClassifier',\n",
        "            'AdaBoostClassifier','GaussianNB','GradientBoostingClassifier','VotingClassifier']\n",
        "clf_list = [x,a,b,c,d,e,f,g]\n",
        "\n",
        "clf_cross_val_mean_score = []\n",
        "run_time = []\n",
        "clf_and_name = list(zip(clf_list,clf_name))\n",
        "for  index,(clf, name) in enumerate(clf_and_name): \n",
        "    start = timeit.default_timer()\n",
        "    print(\"\\n----------------------------------------------------------------------------------------------------\")\n",
        "    print('\\033[1m'+name+'\\033[0m')\n",
        "    \n",
        "    clf.fit(di,dt)\n",
        "    pr = clf.predict(ti)\n",
        "    \n",
        "    c, d = pr, tt\n",
        "    print(re.sub(r' *\\n *', '\\n', np.array_str(np.c_[d, c]).replace('[', '').replace(']', '').strip()))\n",
        "    \n",
        "    cross_val_mean = cross_val_score(clf, ti, tt, cv=cv).mean()\n",
        "    print(\"\\n\\nEvaluate a score by cross-validation:     mean score = %s \\n\" %cross_val_mean)\n",
        "    clf_cross_val_mean_score.append(cross_val_mean)\n",
        "    \n",
        "    stop = timeit.default_timer()\n",
        "    print('Runtime of %s: ' %name, stop - start) \n",
        "    run_time.append(stop - start)\n",
        "    \n",
        "print('\\n----------------------------------------------------------------------------------------------------',\n",
        "      '\\n----------------------------------------------------------------------------------------------------')    \n",
        "print('\\033[1m'+'Summary of classifier name, cross-validation mean score and runtime')\n",
        "clf_and_score = list(zip(clf_name,clf_cross_val_mean_score))\n",
        "clf_and_score_list=[]\n",
        "clf_and_score_list.append(['Classifier','Score','Runtime'])\n",
        "clf_and_score_list.append(['----------------------','----------------','----------'])\n",
        "for  index,(name, score) in enumerate(clf_and_score): \n",
        "    clf_and_score_list.append([name,score,run_time[index]])\n",
        "mx = len(max((sub[0] for sub in clf_and_score_list),key=len))\n",
        "for row in clf_and_score_list:\n",
        "    print(\"\\n\",\" \".join([\"{:<{mx}}       \".format(ele,mx=mx) for ele in row]))\n",
        "print('\\033[0m')   \n",
        "\n"
      ],
      "execution_count": 0,
      "outputs": [
        {
          "output_type": "stream",
          "text": [
            "\n",
            "----------------------------------------------------------------------------------------------------\n",
            "\u001b[1mSVC\u001b[0m\n",
            "130 215\n",
            "120 209\n",
            "100 243\n",
            "107 248\n",
            "96 209\n",
            "106 236\n",
            "126 403\n",
            "119 231\n",
            "128 271\n",
            "120 218\n",
            "107 218\n",
            "105 332\n",
            "98 327\n",
            "75 199\n",
            "76 236\n",
            "90 403\n",
            "88 179\n",
            "99 388\n",
            "100 332\n",
            "99 218\n",
            "106 332\n",
            "99 209\n",
            "98 212\n",
            "97 209\n",
            "0 243\n",
            "\n",
            "\n",
            "Evaluate a score by cross-validation:     mean score = 0.0 \n",
            "\n",
            "Runtime of SVC:  0.05922470000000146\n",
            "\n",
            "----------------------------------------------------------------------------------------------------\n",
            "\u001b[1mRandomForestClassifier\u001b[0m\n"
          ],
          "name": "stdout"
        },
        {
          "output_type": "stream",
          "text": [
            "C:\\Users\\phatm\\Anaconda3\\lib\\site-packages\\sklearn\\model_selection\\_split.py:667: UserWarning: The least populated class in y has only 1 members, which is less than n_splits=3.\n",
            "  % (min_groups, self.n_splits)), UserWarning)\n"
          ],
          "name": "stderr"
        },
        {
          "output_type": "stream",
          "text": [
            "130 140\n",
            "120 140\n",
            "100 140\n",
            "107 140\n",
            "96 140\n",
            "106 140\n",
            "126 140\n",
            "119 140\n",
            "128 140\n",
            "120 140\n",
            "107 140\n",
            "105 140\n",
            "98 140\n",
            "75 140\n",
            "76 140\n",
            "90 140\n",
            "88 140\n",
            "99 140\n",
            "100 140\n",
            "99 140\n",
            "106 140\n",
            "99 140\n",
            "98 140\n",
            "97 140\n",
            "0 140\n"
          ],
          "name": "stdout"
        },
        {
          "output_type": "stream",
          "text": [
            "C:\\Users\\phatm\\Anaconda3\\lib\\site-packages\\sklearn\\model_selection\\_split.py:667: UserWarning: The least populated class in y has only 1 members, which is less than n_splits=3.\n",
            "  % (min_groups, self.n_splits)), UserWarning)\n"
          ],
          "name": "stderr"
        },
        {
          "output_type": "stream",
          "text": [
            "\n",
            "\n",
            "Evaluate a score by cross-validation:     mean score = 0.0787037037037037 \n",
            "\n",
            "Runtime of RandomForestClassifier:  0.6264307999999943\n",
            "\n",
            "----------------------------------------------------------------------------------------------------\n",
            "\u001b[1mExtraTreesClassifier\u001b[0m\n",
            "130 140\n",
            "120 192\n",
            "100 192\n",
            "107 192\n",
            "96 192\n",
            "106 192\n",
            "126 192\n",
            "119 192\n",
            "128 192\n",
            "120 192\n",
            "107 192\n",
            "105 192\n",
            "98 192\n",
            "75 192\n",
            "76 192\n",
            "90 192\n",
            "88 192\n",
            "99 192\n",
            "100 192\n",
            "99 192\n",
            "106 192\n",
            "99 192\n",
            "98 192\n",
            "97 192\n",
            "0 140\n"
          ],
          "name": "stdout"
        },
        {
          "output_type": "stream",
          "text": [
            "C:\\Users\\phatm\\Anaconda3\\lib\\site-packages\\sklearn\\model_selection\\_split.py:667: UserWarning: The least populated class in y has only 1 members, which is less than n_splits=3.\n",
            "  % (min_groups, self.n_splits)), UserWarning)\n"
          ],
          "name": "stderr"
        },
        {
          "output_type": "stream",
          "text": [
            "\n",
            "\n",
            "Evaluate a score by cross-validation:     mean score = 0.041666666666666664 \n",
            "\n",
            "Runtime of ExtraTreesClassifier:  0.4119136999999995\n",
            "\n",
            "----------------------------------------------------------------------------------------------------\n",
            "\u001b[1mDecisionTreeClassifier\u001b[0m\n",
            "130 192\n",
            "120 192\n",
            "100 175\n",
            "107 175\n",
            "96 175\n",
            "106 173\n",
            "126 175\n",
            "119 173\n",
            "128 173\n",
            "120 175\n",
            "107 173\n",
            "105 173\n",
            "98 175\n",
            "75 175\n",
            "76 175\n",
            "90 175\n",
            "88 175\n",
            "99 173\n",
            "100 173\n",
            "99 173\n",
            "106 173\n",
            "99 175\n",
            "98 173\n",
            "97 175\n",
            "0 175\n",
            "\n",
            "\n",
            "Evaluate a score by cross-validation:     mean score = 0.16203703703703703 \n",
            "\n",
            "Runtime of DecisionTreeClassifier:  0.018831299999988005\n",
            "\n",
            "----------------------------------------------------------------------------------------------------\n",
            "\u001b[1mAdaBoostClassifier\u001b[0m\n"
          ],
          "name": "stdout"
        },
        {
          "output_type": "stream",
          "text": [
            "C:\\Users\\phatm\\Anaconda3\\lib\\site-packages\\sklearn\\model_selection\\_split.py:667: UserWarning: The least populated class in y has only 1 members, which is less than n_splits=3.\n",
            "  % (min_groups, self.n_splits)), UserWarning)\n"
          ],
          "name": "stderr"
        },
        {
          "output_type": "stream",
          "text": [
            "130 203\n",
            "120 203\n",
            "100 203\n",
            "107 203\n",
            "96 203\n",
            "106 203\n",
            "126 203\n",
            "119 203\n",
            "128 203\n",
            "120 203\n",
            "107 203\n",
            "105 203\n",
            "98 203\n",
            "75 203\n",
            "76 203\n",
            "90 203\n",
            "88 203\n",
            "99 203\n",
            "100 203\n",
            "99 203\n",
            "106 203\n",
            "99 203\n",
            "98 203\n",
            "97 203\n",
            "0 203\n"
          ],
          "name": "stdout"
        },
        {
          "output_type": "stream",
          "text": [
            "C:\\Users\\phatm\\Anaconda3\\lib\\site-packages\\sklearn\\model_selection\\_split.py:667: UserWarning: The least populated class in y has only 1 members, which is less than n_splits=3.\n",
            "  % (min_groups, self.n_splits)), UserWarning)\n"
          ],
          "name": "stderr"
        },
        {
          "output_type": "stream",
          "text": [
            "\n",
            "\n",
            "Evaluate a score by cross-validation:     mean score = 0.0787037037037037 \n",
            "\n",
            "Runtime of AdaBoostClassifier:  0.6110863000000109\n",
            "\n",
            "----------------------------------------------------------------------------------------------------\n",
            "\u001b[1mGaussianNB\u001b[0m\n",
            "130 212\n",
            "120 209\n",
            "100 218\n",
            "107 234\n",
            "96 230\n",
            "106 194\n",
            "126 234\n",
            "119 198\n",
            "128 198\n",
            "120 234\n",
            "107 230\n",
            "105 225\n",
            "98 385\n",
            "75 225\n",
            "76 207\n",
            "90 221\n",
            "88 198\n",
            "99 198\n",
            "100 198\n",
            "99 230\n",
            "106 197\n",
            "99 203\n",
            "98 225\n",
            "97 203\n",
            "0 218\n",
            "\n",
            "\n",
            "Evaluate a score by cross-validation:     mean score = 0.0787037037037037 \n",
            "\n",
            "Runtime of GaussianNB:  0.017742799999993508\n",
            "\n",
            "----------------------------------------------------------------------------------------------------\n",
            "\u001b[1mGradientBoostingClassifier\u001b[0m\n"
          ],
          "name": "stdout"
        },
        {
          "output_type": "stream",
          "text": [
            "C:\\Users\\phatm\\Anaconda3\\lib\\site-packages\\sklearn\\model_selection\\_split.py:667: UserWarning: The least populated class in y has only 1 members, which is less than n_splits=3.\n",
            "  % (min_groups, self.n_splits)), UserWarning)\n"
          ],
          "name": "stderr"
        },
        {
          "output_type": "stream",
          "text": [
            "130 392\n",
            "120 392\n",
            "100 243\n",
            "107 392\n",
            "96 392\n",
            "106 271\n",
            "126 392\n",
            "119 271\n",
            "128 271\n",
            "120 392\n",
            "107 271\n",
            "105 271\n",
            "98 392\n",
            "75 392\n",
            "76 243\n",
            "90 243\n",
            "88 392\n",
            "99 271\n",
            "100 271\n",
            "99 271\n",
            "106 271\n",
            "99 392\n",
            "98 392\n",
            "97 392\n",
            "0 243\n"
          ],
          "name": "stdout"
        },
        {
          "output_type": "stream",
          "text": [
            "C:\\Users\\phatm\\Anaconda3\\lib\\site-packages\\sklearn\\model_selection\\_split.py:667: UserWarning: The least populated class in y has only 1 members, which is less than n_splits=3.\n",
            "  % (min_groups, self.n_splits)), UserWarning)\n"
          ],
          "name": "stderr"
        },
        {
          "output_type": "stream",
          "text": [
            "\n",
            "\n",
            "Evaluate a score by cross-validation:     mean score = 0.0787037037037037 \n",
            "\n",
            "Runtime of GradientBoostingClassifier:  25.8568327\n",
            "\n",
            "----------------------------------------------------------------------------------------------------\n",
            "\u001b[1mVotingClassifier\u001b[0m\n",
            "130 140\n",
            "120 192\n",
            "100 192\n",
            "107 192\n",
            "96 192\n",
            "106 140\n",
            "126 192\n",
            "119 140\n",
            "128 140\n",
            "120 192\n",
            "107 192\n",
            "105 192\n",
            "98 192\n",
            "75 192\n",
            "76 192\n",
            "90 192\n",
            "88 192\n",
            "99 140\n",
            "100 192\n",
            "99 140\n",
            "106 192\n",
            "99 192\n",
            "98 192\n",
            "97 192\n",
            "0 192\n"
          ],
          "name": "stdout"
        },
        {
          "output_type": "stream",
          "text": [
            "C:\\Users\\phatm\\Anaconda3\\lib\\site-packages\\sklearn\\model_selection\\_split.py:667: UserWarning: The least populated class in y has only 1 members, which is less than n_splits=3.\n",
            "  % (min_groups, self.n_splits)), UserWarning)\n"
          ],
          "name": "stderr"
        },
        {
          "output_type": "stream",
          "text": [
            "\n",
            "\n",
            "Evaluate a score by cross-validation:     mean score = 0.041666666666666664 \n",
            "\n",
            "Runtime of VotingClassifier:  1.1001157999999975\n",
            "\n",
            "---------------------------------------------------------------------------------------------------- \n",
            "----------------------------------------------------------------------------------------------------\n",
            "\u001b[1mSummary of classifier name, cross-validation mean score and runtime\n",
            "\n",
            " Classifier                        Score                             Runtime                          \n",
            "\n",
            " ----------------------            ----------------                  ----------                       \n",
            "\n",
            " SVC                               0.0                               0.05922470000000146              \n",
            "\n",
            " RandomForestClassifier            0.0787037037037037                0.6264307999999943               \n",
            "\n",
            " ExtraTreesClassifier              0.041666666666666664              0.4119136999999995               \n",
            "\n",
            " DecisionTreeClassifier            0.16203703703703703               0.018831299999988005             \n",
            "\n",
            " AdaBoostClassifier                0.0787037037037037                0.6110863000000109               \n",
            "\n",
            " GaussianNB                        0.0787037037037037                0.017742799999993508             \n",
            "\n",
            " GradientBoostingClassifier        0.0787037037037037                25.8568327                       \n",
            "\n",
            " VotingClassifier                  0.041666666666666664              1.1001157999999975               \n",
            "\u001b[0m\n"
          ],
          "name": "stdout"
        }
      ]
    },
    {
      "cell_type": "code",
      "metadata": {
        "id": "D-WJYEXqFAcQ",
        "colab_type": "code",
        "colab": {}
      },
      "source": [
        ""
      ],
      "execution_count": 0,
      "outputs": []
    },
    {
      "cell_type": "markdown",
      "metadata": {
        "id": "nd3YjKcbt5pP",
        "colab_type": "text"
      },
      "source": [
        "# "
      ]
    },
    {
      "cell_type": "code",
      "metadata": {
        "id": "42t9R8D-t-uA",
        "colab_type": "code",
        "colab": {}
      },
      "source": [
        "# Import PyDrive and associated libraries.\n",
        "# This only needs to be done once per notebook.\n",
        "from pydrive.auth import GoogleAuth\n",
        "from pydrive.drive import GoogleDrive\n",
        "from google.colab import auth\n",
        "from oauth2client.client import GoogleCredentials\n",
        "\n",
        "# Authenticate and create the PyDrive client.\n",
        "# This only needs to be done once per notebook.\n",
        "auth.authenticate_user()\n",
        "gauth = GoogleAuth()\n",
        "gauth.credentials = GoogleCredentials.get_application_default()\n",
        "drive = GoogleDrive(gauth)\n",
        "\n",
        "# Download a file based on its file ID.\n",
        "#\n",
        "# A file ID looks like: laggVyWshwcyP6kEI-y_W3P8D26sz\n",
        "file_id = 'REPLACE_WITH_YOUR_FILE_ID'\n",
        "downloaded = drive.CreateFile({'id': file_id})\n",
        "print('Downloaded content \"{}\"'.format(downloaded.GetContentString()))"
      ],
      "execution_count": 0,
      "outputs": []
    }
  ]
}