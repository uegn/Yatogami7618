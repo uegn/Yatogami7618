{
  "nbformat": 4,
  "nbformat_minor": 0,
  "metadata": {
    "colab": {
      "name": "Stock LSTM future time.ipynb",
      "provenance": [],
      "authorship_tag": "ABX9TyNu7cuT5B90JJQNN5P4aguj",
      "include_colab_link": true
    },
    "kernelspec": {
      "name": "python3",
      "display_name": "Python 3"
    }
  },
  "cells": [
    {
      "cell_type": "markdown",
      "metadata": {
        "id": "view-in-github",
        "colab_type": "text"
      },
      "source": [
        "<a href=\"https://colab.research.google.com/github/uegn/Yatogami7618/blob/master/Stock_LSTM_future_time.ipynb\" target=\"_parent\"><img src=\"https://colab.research.google.com/assets/colab-badge.svg\" alt=\"Open In Colab\"/></a>"
      ]
    },
    {
      "cell_type": "code",
      "metadata": {
        "id": "dSY1LUZiHbHK",
        "colab_type": "code",
        "colab": {
          "base_uri": "https://localhost:8080/",
          "height": 85
        },
        "outputId": "b4738976-b82b-4a41-99fc-873a6ad08586"
      },
      "source": [
        "import math\n",
        "import pandas_datareader as web \n",
        "import numpy as np\n",
        "import pandas as pd\n",
        "from sklearn.preprocessing import MinMaxScaler\n",
        "from keras.models import Sequential\n",
        "from keras.layers import Dense, LSTM\n",
        "import matplotlib.pyplot as plt\n",
        "plt.style.use('fivethirtyeight')\n",
        "\n",
        "a=0\n",
        "import datetime\n",
        "tomorrow = datetime.date.today() + datetime.timedelta(days=a)\n",
        "tomorrow = tomorrow.strftime(\"%Y-%m-%d\")\n",
        "print('Tomorrow is:',tomorrow)\n",
        "\n",
        "data_original = web.DataReader('M', data_source='yahoo', start='1900-01-01' , end='now')\n",
        "\n",
        "# line = pd.to_datetime(tomorrow, format=\"%Y-%m-%d\")\n",
        "# new_row = pd.DataFrame( index=[line])\n",
        "# data_original = pd.concat([data_original, pd.DataFrame(new_row)], ignore_index=False)"
      ],
      "execution_count": 1,
      "outputs": [
        {
          "output_type": "stream",
          "text": [
            "/usr/local/lib/python3.6/dist-packages/pandas_datareader/compat/__init__.py:7: FutureWarning: pandas.util.testing is deprecated. Use the functions in the public API at pandas.testing instead.\n",
            "  from pandas.util.testing import assert_frame_equal\n",
            "Using TensorFlow backend.\n"
          ],
          "name": "stderr"
        },
        {
          "output_type": "stream",
          "text": [
            "Tomorrow is: 2020-04-28\n"
          ],
          "name": "stdout"
        }
      ]
    },
    {
      "cell_type": "code",
      "metadata": {
        "id": "MaHUeu57HvoB",
        "colab_type": "code",
        "colab": {}
      },
      "source": [
        "ratio = .9\n",
        "data_close = data_original.filter(['Close'])\n",
        "data_set = data_close.values\n",
        "train_len = math.ceil(len(data_set) * ratio)\n",
        "\n",
        "scaler = MinMaxScaler(feature_range=(0,1))\n",
        "scaled_data = scaler.fit_transform(data_set)\n",
        "\n",
        "train_data = scaled_data[0:train_len,:]\n",
        "amount_of_day = 253\n",
        "\n",
        "xtrain = []\n",
        "ytrain = []\n",
        "for i in range(amount_of_day, len(train_data)):\n",
        "  xtrain.append(train_data[i-amount_of_day:i,0])\n",
        "  ytrain.append(train_data[i,0])\n",
        "\n",
        "xtrain, ytrain = np.array(xtrain), np.array(ytrain)\n",
        "xtrain = np.reshape(xtrain, (xtrain.shape[0], xtrain.shape[1], 1))"
      ],
      "execution_count": 0,
      "outputs": []
    },
    {
      "cell_type": "code",
      "metadata": {
        "id": "7rw1kmmVIBx9",
        "colab_type": "code",
        "colab": {
          "base_uri": "https://localhost:8080/",
          "height": 68
        },
        "outputId": "c33499c7-ba2f-4529-c4a6-6e8690a26387"
      },
      "source": [
        "model = Sequential()\n",
        "model.add(LSTM(50, return_sequences=True, input_shape=(xtrain.shape[1], 1)))\n",
        "model.add(LSTM(50, return_sequences=False))\n",
        "model.add(Dense(25))\n",
        "model.add(Dense(1))\n",
        "\n",
        "model.compile(optimizer='adam', loss='mean_squared_error')\n",
        "model.fit(xtrain, ytrain, batch_size=1, epochs=1)"
      ],
      "execution_count": 3,
      "outputs": [
        {
          "output_type": "stream",
          "text": [
            "Epoch 1/1\n",
            "6146/6146 [==============================] - 937s 152ms/step - loss: 7.2366e-04\n"
          ],
          "name": "stdout"
        },
        {
          "output_type": "execute_result",
          "data": {
            "text/plain": [
              "<keras.callbacks.callbacks.History at 0x7f5438b38320>"
            ]
          },
          "metadata": {
            "tags": []
          },
          "execution_count": 3
        }
      ]
    },
    {
      "cell_type": "code",
      "metadata": {
        "id": "3rcK94WpIMgG",
        "colab_type": "code",
        "colab": {}
      },
      "source": [
        "# test_data = scaled_data[train_len-amount_of_day: , :]\n",
        "# xtest = []\n",
        "# ytest = data_set[train_len:,:]\n",
        "# for i in range(amount_of_day, len(test_data)):\n",
        "#   xtest.append(test_data[i-amount_of_day:i, 0])\n",
        "\n",
        "# array_xtest = np.array(xtest)\n",
        "# array_xtest = np.reshape(array_xtest, (array_xtest.shape[0], array_xtest.shape[1], 1))\n",
        "# prediction = scaler.inverse_transform(model.predict(array_xtest))"
      ],
      "execution_count": 0,
      "outputs": []
    },
    {
      "cell_type": "code",
      "metadata": {
        "id": "ObrzM8v7IpZU",
        "colab_type": "code",
        "colab": {
          "base_uri": "https://localhost:8080/",
          "height": 255
        },
        "outputId": "bbb850d5-0924-47d5-ce17-0ac389d2422f"
      },
      "source": [
        "day_in_future = 14\n",
        "for i in range(day_in_future):\n",
        "  the_next_day = datetime.date.today() + datetime.timedelta(days=i)\n",
        "  new_row = pd.DataFrame(index=[pd.to_datetime(the_next_day.strftime(\"%Y-%m-%d\"), format=\"%Y-%m-%d\")])\n",
        "  data_close = pd.concat([data_close, pd.DataFrame(new_row)], ignore_index=False)\n",
        "\n",
        "  test_data = scaled_data[train_len-amount_of_day: , :]\n",
        "  xtest = []\n",
        "  ytest = data_set[train_len:,:]\n",
        "  for j in range(amount_of_day, len(test_data)):\n",
        "    xtest.append(test_data[j-amount_of_day:j, 0])\n",
        "  array_xtest = np.array(xtest)\n",
        "  array_xtest = np.reshape(array_xtest, (array_xtest.shape[0], array_xtest.shape[1], 1))\n",
        "  prediction = scaler.inverse_transform(model.predict(array_xtest))\n",
        "\n",
        "  data_close['Close'][-1] = prediction[-1]\n",
        "  train_len = math.ceil(len(data_close.values) * ratio)\n",
        "  scaler = MinMaxScaler(feature_range=(0,1))\n",
        "  scaled_data = scaler.fit_transform(data_close.values)\n",
        "  print(prediction[-1])"
      ],
      "execution_count": 5,
      "outputs": [
        {
          "output_type": "stream",
          "text": [
            "[7.231986]\n",
            "[7.4636326]\n",
            "[8.303499]\n",
            "[9.0629225]\n",
            "[9.788858]\n",
            "[10.469906]\n",
            "[11.103874]\n",
            "[11.693437]\n",
            "[12.2443]\n",
            "[12.763747]\n",
            "[13.259405]\n",
            "[13.738371]\n",
            "[14.206654]\n",
            "[14.668901]\n"
          ],
          "name": "stdout"
        }
      ]
    },
    {
      "cell_type": "code",
      "metadata": {
        "id": "1Iezj6G6JeiR",
        "colab_type": "code",
        "colab": {
          "base_uri": "https://localhost:8080/",
          "height": 669
        },
        "outputId": "64b16e25-85ce-4300-f9e0-0f4b0970252b"
      },
      "source": [
        "data_close[-20:]"
      ],
      "execution_count": 24,
      "outputs": [
        {
          "output_type": "execute_result",
          "data": {
            "text/html": [
              "<div>\n",
              "<style scoped>\n",
              "    .dataframe tbody tr th:only-of-type {\n",
              "        vertical-align: middle;\n",
              "    }\n",
              "\n",
              "    .dataframe tbody tr th {\n",
              "        vertical-align: top;\n",
              "    }\n",
              "\n",
              "    .dataframe thead th {\n",
              "        text-align: right;\n",
              "    }\n",
              "</style>\n",
              "<table border=\"1\" class=\"dataframe\">\n",
              "  <thead>\n",
              "    <tr style=\"text-align: right;\">\n",
              "      <th></th>\n",
              "      <th>Close</th>\n",
              "    </tr>\n",
              "  </thead>\n",
              "  <tbody>\n",
              "    <tr>\n",
              "      <th>2020-04-20</th>\n",
              "      <td>5.310000</td>\n",
              "    </tr>\n",
              "    <tr>\n",
              "      <th>2020-04-21</th>\n",
              "      <td>5.220000</td>\n",
              "    </tr>\n",
              "    <tr>\n",
              "      <th>2020-04-22</th>\n",
              "      <td>4.820000</td>\n",
              "    </tr>\n",
              "    <tr>\n",
              "      <th>2020-04-23</th>\n",
              "      <td>4.890000</td>\n",
              "    </tr>\n",
              "    <tr>\n",
              "      <th>2020-04-24</th>\n",
              "      <td>5.020000</td>\n",
              "    </tr>\n",
              "    <tr>\n",
              "      <th>2020-04-27</th>\n",
              "      <td>5.500000</td>\n",
              "    </tr>\n",
              "    <tr>\n",
              "      <th>2020-04-28</th>\n",
              "      <td>7.231986</td>\n",
              "    </tr>\n",
              "    <tr>\n",
              "      <th>2020-04-29</th>\n",
              "      <td>7.463633</td>\n",
              "    </tr>\n",
              "    <tr>\n",
              "      <th>2020-04-30</th>\n",
              "      <td>8.303499</td>\n",
              "    </tr>\n",
              "    <tr>\n",
              "      <th>2020-05-01</th>\n",
              "      <td>9.062922</td>\n",
              "    </tr>\n",
              "    <tr>\n",
              "      <th>2020-05-02</th>\n",
              "      <td>9.788858</td>\n",
              "    </tr>\n",
              "    <tr>\n",
              "      <th>2020-05-03</th>\n",
              "      <td>10.469906</td>\n",
              "    </tr>\n",
              "    <tr>\n",
              "      <th>2020-05-04</th>\n",
              "      <td>11.103874</td>\n",
              "    </tr>\n",
              "    <tr>\n",
              "      <th>2020-05-05</th>\n",
              "      <td>11.693437</td>\n",
              "    </tr>\n",
              "    <tr>\n",
              "      <th>2020-05-06</th>\n",
              "      <td>12.244300</td>\n",
              "    </tr>\n",
              "    <tr>\n",
              "      <th>2020-05-07</th>\n",
              "      <td>12.763747</td>\n",
              "    </tr>\n",
              "    <tr>\n",
              "      <th>2020-05-08</th>\n",
              "      <td>13.259405</td>\n",
              "    </tr>\n",
              "    <tr>\n",
              "      <th>2020-05-09</th>\n",
              "      <td>13.738371</td>\n",
              "    </tr>\n",
              "    <tr>\n",
              "      <th>2020-05-10</th>\n",
              "      <td>14.206654</td>\n",
              "    </tr>\n",
              "    <tr>\n",
              "      <th>2020-05-11</th>\n",
              "      <td>14.668901</td>\n",
              "    </tr>\n",
              "  </tbody>\n",
              "</table>\n",
              "</div>"
            ],
            "text/plain": [
              "                Close\n",
              "2020-04-20   5.310000\n",
              "2020-04-21   5.220000\n",
              "2020-04-22   4.820000\n",
              "2020-04-23   4.890000\n",
              "2020-04-24   5.020000\n",
              "2020-04-27   5.500000\n",
              "2020-04-28   7.231986\n",
              "2020-04-29   7.463633\n",
              "2020-04-30   8.303499\n",
              "2020-05-01   9.062922\n",
              "2020-05-02   9.788858\n",
              "2020-05-03  10.469906\n",
              "2020-05-04  11.103874\n",
              "2020-05-05  11.693437\n",
              "2020-05-06  12.244300\n",
              "2020-05-07  12.763747\n",
              "2020-05-08  13.259405\n",
              "2020-05-09  13.738371\n",
              "2020-05-10  14.206654\n",
              "2020-05-11  14.668901"
            ]
          },
          "metadata": {
            "tags": []
          },
          "execution_count": 24
        }
      ]
    },
    {
      "cell_type": "code",
      "metadata": {
        "id": "15evLsVeMl2X",
        "colab_type": "code",
        "colab": {
          "base_uri": "https://localhost:8080/",
          "height": 620
        },
        "outputId": "bcc68f83-1e89-49c9-8662-06766242efe5"
      },
      "source": [
        "last_th_day = 100\n",
        "train = data_close[:train_len]\n",
        "valid = data_close[train_len:]\n",
        "valid['Prediction'] = prediction\n",
        "plt.figure(figsize=(16,8))\n",
        "plt.title('Model')\n",
        "plt.xlabel('Date', fontsize=18)\n",
        "plt.ylabel('Close Price ($)')\n",
        "# plt.plot(train['Close'][-last_th_day:])\n",
        "plt.plot(valid[['Close', 'Prediction']][-last_th_day:])\n",
        "plt.legend(['Real', 'Prediction'], loc='lower right')\n",
        "plt.show()\n"
      ],
      "execution_count": 27,
      "outputs": [
        {
          "output_type": "stream",
          "text": [
            "/usr/local/lib/python3.6/dist-packages/ipykernel_launcher.py:4: SettingWithCopyWarning: \n",
            "A value is trying to be set on a copy of a slice from a DataFrame.\n",
            "Try using .loc[row_indexer,col_indexer] = value instead\n",
            "\n",
            "See the caveats in the documentation: https://pandas.pydata.org/pandas-docs/stable/user_guide/indexing.html#returning-a-view-versus-a-copy\n",
            "  after removing the cwd from sys.path.\n"
          ],
          "name": "stderr"
        },
        {
          "output_type": "display_data",
          "data": {
            "image/png": "[encoded data removed]",
            "text/plain": [
              "<Figure size 1152x576 with 1 Axes>"
            ]
          },
          "metadata": {
            "tags": [],
            "needs_background": "light"
          }
        }
      ]
    },
    {
      "cell_type": "code",
      "metadata": {
        "id": "8HkvM0qg-IYp",
        "colab_type": "code",
        "colab": {}
      },
      "source": [
        ""
      ],
      "execution_count": 0,
      "outputs": []
    }
  ]
}